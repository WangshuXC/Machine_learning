{
 "cells": [
  {
   "cell_type": "markdown",
   "metadata": {},
   "source": [
    "## data_process"
   ]
  },
  {
   "cell_type": "code",
   "execution_count": 2,
   "metadata": {},
   "outputs": [],
   "source": [
    "# coding=utf-8\n",
    "import numpy as np\n",
    "import struct\n",
    "import os\n",
    "\n",
    "# Load the MNIST data for this exercise\n",
    "# mat_data contain the training and testing images or labels.\n",
    "#   Each matrix has size [m,n] for images where:\n",
    "#      m is the number of examples.\n",
    "#      n is the number of pixels in each image.\n",
    "#   or Each matrix has size [m,1] for labels contain the corresponding labels (0 to 9) where:\n",
    "#      m is the number of examples.\n",
    "def load_mnist(file_dir, is_images='True'):\n",
    "    # Read binary data\n",
    "    bin_file = open(file_dir, 'rb')\n",
    "    bin_data = bin_file.read()\n",
    "    bin_file.close()\n",
    "    # Analysis file header\n",
    "    if is_images:\n",
    "        # Read images\n",
    "        fmt_header = '>iiii'\n",
    "        magic, num_images, num_rows, num_cols = struct.unpack_from(fmt_header, bin_data, 0)\n",
    "    else:\n",
    "        # Read labels\n",
    "        fmt_header = '>ii'\n",
    "        magic, num_images = struct.unpack_from(fmt_header, bin_data, 0)\n",
    "        num_rows, num_cols = 1, 1\n",
    "    data_size = num_images * num_rows * num_cols\n",
    "    mat_data = struct.unpack_from('>' + str(data_size) + 'B', bin_data, struct.calcsize(fmt_header))\n",
    "    mat_data = np.reshape(mat_data, [num_images, num_rows * num_cols])\n",
    "    print('Load images from %s, number: %d, data shape: %s' % (file_dir, num_images, str(mat_data.shape)))\n",
    "    return mat_data\n",
    "\n",
    "# call the load_mnist function to get the images and labels of training set and testing set\n",
    "def load_data(mnist_dir, train_data_dir, train_label_dir, test_data_dir, test_label_dir):\n",
    "    print('Loading MNIST data from files...')\n",
    "    train_images = load_mnist(os.path.join(mnist_dir, train_data_dir), True)\n",
    "    train_labels = load_mnist(os.path.join(mnist_dir, train_label_dir), False)\n",
    "    test_images = load_mnist(os.path.join(mnist_dir, test_data_dir), True)\n",
    "    test_labels = load_mnist(os.path.join(mnist_dir, test_label_dir), False)\n",
    "    return train_images, train_labels, test_images, test_labels\n",
    "\n"
   ]
  },
  {
   "cell_type": "code",
   "execution_count": 3,
   "metadata": {},
   "outputs": [],
   "source": [
    "mnist_dir = \"mnist_data/\"\n",
    "train_data_dir = \"train-images-idx3-ubyte\"\n",
    "train_label_dir = \"train-labels-idx1-ubyte\"\n",
    "test_data_dir = \"t10k-images-idx3-ubyte\"\n",
    "test_label_dir = \"t10k-labels-idx1-ubyte\"\n",
    "k = 10\n",
    "iters = 500\n",
    "alpha = 0.5"
   ]
  },
  {
   "cell_type": "code",
   "execution_count": 4,
   "metadata": {},
   "outputs": [
    {
     "data": {
      "text/plain": [
       "'mnist_data/train-images-idx3-ubyte'"
      ]
     },
     "execution_count": 4,
     "metadata": {},
     "output_type": "execute_result"
    }
   ],
   "source": [
    "os.path.join(mnist_dir, train_data_dir)"
   ]
  },
  {
   "cell_type": "code",
   "execution_count": 5,
   "metadata": {},
   "outputs": [
    {
     "name": "stdout",
     "output_type": "stream",
     "text": [
      "Loading MNIST data from files...\n",
      "Load images from mnist_data/train-images-idx3-ubyte, number: 60000, data shape: (60000, 784)\n",
      "Load images from mnist_data/train-labels-idx1-ubyte, number: 60000, data shape: (60000, 1)\n",
      "Load images from mnist_data/t10k-images-idx3-ubyte, number: 10000, data shape: (10000, 784)\n",
      "Load images from mnist_data/t10k-labels-idx1-ubyte, number: 10000, data shape: (10000, 1)\n"
     ]
    }
   ],
   "source": [
    "train_images, train_labels, test_images, test_labels = load_data(mnist_dir, train_data_dir, train_label_dir, test_data_dir, test_label_dir)"
   ]
  },
  {
   "cell_type": "code",
   "execution_count": 6,
   "metadata": {},
   "outputs": [
    {
     "data": {
      "text/plain": [
       "dtype('int32')"
      ]
     },
     "execution_count": 6,
     "metadata": {},
     "output_type": "execute_result"
    }
   ],
   "source": [
    "train_images.dtype"
   ]
  },
  {
   "cell_type": "markdown",
   "metadata": {},
   "source": [
    "## TRAIN"
   ]
  },
  {
   "cell_type": "code",
   "execution_count": 7,
   "metadata": {},
   "outputs": [
    {
     "name": "stdout",
     "output_type": "stream",
     "text": [
      "[[0 0 0 ... 0 0 0]\n",
      " [0 0 0 ... 0 0 0]\n",
      " [0 0 0 ... 0 0 0]\n",
      " ...\n",
      " [0 0 0 ... 0 0 0]\n",
      " [0 0 0 ... 0 0 0]\n",
      " [0 0 0 ... 0 0 0]]\n",
      "[[5]\n",
      " [0]\n",
      " [4]\n",
      " ...\n",
      " [5]\n",
      " [6]\n",
      " [8]]\n",
      "[[0 0 0 ... 0 0 0]\n",
      " [0 0 0 ... 0 0 0]\n",
      " [0 0 0 ... 0 0 0]\n",
      " ...\n",
      " [0 0 0 ... 0 0 0]\n",
      " [0 0 0 ... 0 0 0]\n",
      " [0 0 0 ... 0 0 0]]\n",
      "[[7]\n",
      " [2]\n",
      " [1]\n",
      " ...\n",
      " [4]\n",
      " [5]\n",
      " [6]]\n"
     ]
    }
   ],
   "source": [
    "print(train_images)\n",
    "print(train_labels)\n",
    "print(test_images)\n",
    "print(test_labels)"
   ]
  },
  {
   "cell_type": "code",
   "execution_count": 8,
   "metadata": {},
   "outputs": [],
   "source": [
    "# tranfer the image from gray to binary and get the one-hot style labels\n",
    "def data_convert(x, y, m, k):\n",
    "    x[x<=40]=0\n",
    "    x[x>40]=1\n",
    "    ont_hot_y = np.zeros((m,k))    \n",
    "    for t in np.arange(0,m):\n",
    "        ont_hot_y[t,y[t]]=1\n",
    "    ont_hot_y=ont_hot_y.T\n",
    "    return x, ont_hot_y\n"
   ]
  },
  {
   "cell_type": "code",
   "execution_count": 9,
   "metadata": {},
   "outputs": [],
   "source": [
    "import matplotlib.pyplot as plt\n",
    "def softmax_regression(theta, x, y, iters, alpha):\n",
    "    # TODO: Do the softmax regression by computing the gradient and\n",
    "    # the objective function value of every iteration and update the theta\n",
    "    loss_history = []\n",
    "    for i in range(iters):\n",
    "        score = np.dot(theta, x.T)  # 计算得分\n",
    "        score -= np.max(score, axis=0)  # 减去最大值，避免数值上溢\n",
    "        exp_score = np.exp(score)  # 指数化得分\n",
    "        probabilities = exp_score / np.sum(exp_score, axis=0)  # 计算概率\n",
    "        loss = -np.sum(y * np.log(probabilities)) / x.shape[0]  # 计算交叉熵损失\n",
    "        loss_history.append(loss)\n",
    "        gradient = np.dot(probabilities - y, x) / x.shape[0]  # 计算梯度\n",
    "        theta -= alpha * gradient  # 更新theta参数\n",
    "    # 绘制损失曲线\n",
    "    plt.plot(loss_history)\n",
    "    return theta"
   ]
  },
  {
   "cell_type": "code",
   "execution_count": 10,
   "metadata": {},
   "outputs": [],
   "source": [
    "def train(train_images, train_labels, k, iters = 5, alpha = 0.5):\n",
    "    m, n = train_images.shape\n",
    "    # data processing\n",
    "    x, y = data_convert(train_images, train_labels, m, k) # x:[m,n], y:[1,m]\n",
    "    \n",
    "    # Initialize theta.  Use a matrix where each column corresponds to a class,\n",
    "    # and each row is a classifier coefficient for that class.\n",
    "    theta = np.random.rand(k, n) # [k,n]\n",
    "    # do the softmax regression\n",
    "    theta = softmax_regression(theta, x, y, iters, alpha)\n",
    "    return theta"
   ]
  },
  {
   "cell_type": "code",
   "execution_count": 11,
   "metadata": {},
   "outputs": [
    {
     "data": {
      "text/plain": [
       "array([[2.23835158e-01, 5.30757821e-01, 3.95294713e-01, ...,\n",
       "        8.07960623e-01, 8.50054510e-01, 3.89693649e-01],\n",
       "       [9.72865044e-01, 2.98045627e-01, 7.31010766e-01, ...,\n",
       "        1.10887070e-02, 8.20788116e-01, 8.36652576e-01],\n",
       "       [6.85111156e-01, 5.79276329e-01, 9.58299592e-01, ...,\n",
       "        9.58264748e-01, 4.90628440e-01, 4.47463833e-01],\n",
       "       ...,\n",
       "       [4.54880032e-01, 6.80958833e-01, 2.14526428e-02, ...,\n",
       "        9.21933979e-01, 1.53631553e-01, 1.62058793e-01],\n",
       "       [9.34102244e-01, 4.60119764e-01, 7.43699148e-01, ...,\n",
       "        7.13090922e-01, 1.84564191e-01, 9.59779523e-01],\n",
       "       [1.41754794e-04, 3.60208382e-01, 9.25359146e-01, ...,\n",
       "        9.66254675e-01, 5.16407186e-01, 3.78862022e-01]])"
      ]
     },
     "execution_count": 11,
     "metadata": {},
     "output_type": "execute_result"
    },
    {
     "data": {
      "image/png": "[encoded data removed]",
      "text/plain": [
       "<Figure size 640x480 with 1 Axes>"
      ]
     },
     "metadata": {},
     "output_type": "display_data"
    }
   ],
   "source": [
    "theta = train(train_images, train_labels, k, iters, alpha)\n",
    "theta"
   ]
  },
  {
   "cell_type": "markdown",
   "metadata": {},
   "source": [
    "## TEST"
   ]
  },
  {
   "cell_type": "code",
   "execution_count": 12,
   "metadata": {},
   "outputs": [],
   "source": [
    "def predict(test_images, theta):\n",
    "    scores = np.dot(test_images, theta.T)\n",
    "    preds = np.argmax(scores, axis=1)\n",
    "    return preds\n",
    "\n",
    "def cal_accuracy(y_pred, y):\n",
    "    # TODO: Compute the accuracy among the test set and store it in acc\n",
    "    acc = np.sum(np.equal(y_pred,y.reshape(-1,))) / y.shape[0]\n",
    "    return acc"
   ]
  },
  {
   "cell_type": "code",
   "execution_count": 13,
   "metadata": {},
   "outputs": [
    {
     "data": {
      "text/plain": [
       "array([7, 2, 1, ..., 4, 5, 6], dtype=int64)"
      ]
     },
     "execution_count": 13,
     "metadata": {},
     "output_type": "execute_result"
    }
   ],
   "source": [
    "y_predict = predict(test_images, theta)\n",
    "y_predict"
   ]
  },
  {
   "cell_type": "code",
   "execution_count": 14,
   "metadata": {},
   "outputs": [
    {
     "data": {
      "text/plain": [
       "0.9042"
      ]
     },
     "execution_count": 14,
     "metadata": {},
     "output_type": "execute_result"
    }
   ],
   "source": [
    "accuracy  = cal_accuracy(y_predict, test_labels)\n",
    "accuracy"
   ]
  }
 ],
 "metadata": {
  "kernelspec": {
   "display_name": "Python 3",
   "language": "python",
   "name": "python3"
  },
  "language_info": {
   "codemirror_mode": {
    "name": "ipython",
    "version": 3
   },
   "file_extension": ".py",
   "mimetype": "text/x-python",
   "name": "python",
   "nbconvert_exporter": "python",
   "pygments_lexer": "ipython3",
   "version": "3.11.5"
  }
 },
 "nbformat": 4,
 "nbformat_minor": 2
}
