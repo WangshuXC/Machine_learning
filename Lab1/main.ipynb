{
 "cells": [
  {
   "cell_type": "markdown",
   "metadata": {},
   "source": [
    "## data_process"
   ]
  },
  {
   "cell_type": "code",
   "execution_count": 48,
   "metadata": {},
   "outputs": [],
   "source": [
    "# coding=utf-8\n",
    "import numpy as np\n",
    "import struct\n",
    "import os\n",
    "\n",
    "# Load the MNIST data for this exercise\n",
    "# mat_data contain the training and testing images or labels.\n",
    "#   Each matrix has size [m,n] for images where:\n",
    "#      m is the number of examples.\n",
    "#      n is the number of pixels in each image.\n",
    "#   or Each matrix has size [m,1] for labels contain the corresponding labels (0 to 9) where:\n",
    "#      m is the number of examples.\n",
    "def load_mnist(file_dir, is_images='True'):\n",
    "    # Read binary data\n",
    "    bin_file = open(file_dir, 'rb')\n",
    "    bin_data = bin_file.read()\n",
    "    bin_file.close()\n",
    "    # Analysis file header\n",
    "    if is_images:\n",
    "        # Read images\n",
    "        fmt_header = '>iiii'\n",
    "        magic, num_images, num_rows, num_cols = struct.unpack_from(fmt_header, bin_data, 0)\n",
    "    else:\n",
    "        # Read labels\n",
    "        fmt_header = '>ii'\n",
    "        magic, num_images = struct.unpack_from(fmt_header, bin_data, 0)\n",
    "        num_rows, num_cols = 1, 1\n",
    "    data_size = num_images * num_rows * num_cols\n",
    "    mat_data = struct.unpack_from('>' + str(data_size) + 'B', bin_data, struct.calcsize(fmt_header))\n",
    "    mat_data = np.reshape(mat_data, [num_images, num_rows * num_cols])\n",
    "    print('Load images from %s, number: %d, data shape: %s' % (file_dir, num_images, str(mat_data.shape)))\n",
    "    return mat_data\n",
    "\n",
    "# call the load_mnist function to get the images and labels of training set and testing set\n",
    "def load_data(mnist_dir, train_data_dir, train_label_dir, test_data_dir, test_label_dir):\n",
    "    print('Loading MNIST data from files...')\n",
    "    train_images = load_mnist(os.path.join(mnist_dir, train_data_dir), True)\n",
    "    train_labels = load_mnist(os.path.join(mnist_dir, train_label_dir), False)\n",
    "    test_images = load_mnist(os.path.join(mnist_dir, test_data_dir), True)\n",
    "    test_labels = load_mnist(os.path.join(mnist_dir, test_label_dir), False)\n",
    "    return train_images, train_labels, test_images, test_labels\n",
    "\n"
   ]
  },
  {
   "cell_type": "code",
   "execution_count": 49,
   "metadata": {},
   "outputs": [],
   "source": [
    "mnist_dir = \"mnist_data/\"\n",
    "train_data_dir = \"train-images-idx3-ubyte\"\n",
    "train_label_dir = \"train-labels-idx1-ubyte\"\n",
    "test_data_dir = \"t10k-images-idx3-ubyte\"\n",
    "test_label_dir = \"t10k-labels-idx1-ubyte\"\n",
    "k = 10\n",
    "iters = 500\n",
    "alpha = 0.5"
   ]
  },
  {
   "cell_type": "code",
   "execution_count": 50,
   "metadata": {},
   "outputs": [
    {
     "data": {
      "text/plain": [
       "'mnist_data/train-images-idx3-ubyte'"
      ]
     },
     "execution_count": 50,
     "metadata": {},
     "output_type": "execute_result"
    }
   ],
   "source": [
    "os.path.join(mnist_dir, train_data_dir)"
   ]
  },
  {
   "cell_type": "code",
   "execution_count": 51,
   "metadata": {},
   "outputs": [
    {
     "name": "stdout",
     "output_type": "stream",
     "text": [
      "Loading MNIST data from files...\n",
      "Load images from mnist_data/train-images-idx3-ubyte, number: 60000, data shape: (60000, 784)\n",
      "Load images from mnist_data/train-labels-idx1-ubyte, number: 60000, data shape: (60000, 1)\n",
      "Load images from mnist_data/t10k-images-idx3-ubyte, number: 10000, data shape: (10000, 784)\n",
      "Load images from mnist_data/t10k-labels-idx1-ubyte, number: 10000, data shape: (10000, 1)\n"
     ]
    }
   ],
   "source": [
    "train_images, train_labels, test_images, test_labels = load_data(mnist_dir, train_data_dir, train_label_dir, test_data_dir, test_label_dir)"
   ]
  },
  {
   "cell_type": "code",
   "execution_count": 52,
   "metadata": {},
   "outputs": [
    {
     "data": {
      "text/plain": [
       "dtype('int32')"
      ]
     },
     "execution_count": 52,
     "metadata": {},
     "output_type": "execute_result"
    }
   ],
   "source": [
    "train_images.dtype"
   ]
  },
  {
   "cell_type": "markdown",
   "metadata": {},
   "source": [
    "## TRAIN"
   ]
  },
  {
   "cell_type": "code",
   "execution_count": 53,
   "metadata": {},
   "outputs": [],
   "source": [
    "# train_images = train_images[:5,:]\n",
    "# train_labels = train_labels[:5,:]\n",
    "# test_images = test_images[:5,:]\n",
    "# test_labels = test_labels[:5,:]"
   ]
  },
  {
   "cell_type": "code",
   "execution_count": 54,
   "metadata": {},
   "outputs": [
    {
     "data": {
      "text/plain": [
       "array([[7],\n",
       "       [2],\n",
       "       [1],\n",
       "       ...,\n",
       "       [4],\n",
       "       [5],\n",
       "       [6]])"
      ]
     },
     "execution_count": 54,
     "metadata": {},
     "output_type": "execute_result"
    }
   ],
   "source": [
    "train_images\n",
    "train_labels\n",
    "test_images\n",
    "test_labels"
   ]
  },
  {
   "cell_type": "code",
   "execution_count": 55,
   "metadata": {},
   "outputs": [],
   "source": [
    "# tranfer the image from gray to binary and get the one-hot style labels\n",
    "def data_convert(x, y, m, k):\n",
    "    x[x<=40]=0\n",
    "    x[x>40]=1\n",
    "    ont_hot_y = np.zeros((m,k))    \n",
    "    for t in np.arange(0,m):\n",
    "        ont_hot_y[t,y[t]]=1\n",
    "    ont_hot_y=ont_hot_y.T\n",
    "    return x, ont_hot_y\n"
   ]
  },
  {
   "cell_type": "code",
   "execution_count": 56,
   "metadata": {},
   "outputs": [],
   "source": [
    "import matplotlib.pyplot as plt\n",
    "def softmax_regression(theta, x, y, iters, alpha):\n",
    "    # TODO: Do the softmax regression by computing the gradient and\n",
    "    # the objective function value of every iteration and update the theta\n",
    "    loss_history = []\n",
    "    for i in range(iters):\n",
    "        score = np.dot(theta, x.T)  # 计算得分\n",
    "        score -= np.max(score, axis=0)  # 减去最大值，避免数值上溢\n",
    "        exp_score = np.exp(score)  # 指数化得分\n",
    "        probabilities = exp_score / np.sum(exp_score, axis=0)  # 计算概率\n",
    "        loss = -np.sum(y * np.log(probabilities)) / x.shape[0]  # 计算交叉熵损失\n",
    "        loss_history.append(loss)\n",
    "        gradient = np.dot(probabilities - y, x) / x.shape[0]  # 计算梯度\n",
    "        theta -= alpha * gradient  # 更新theta参数\n",
    "    # 绘制损失曲线\n",
    "    plt.plot(loss_history)\n",
    "    return theta"
   ]
  },
  {
   "cell_type": "code",
   "execution_count": 57,
   "metadata": {},
   "outputs": [],
   "source": [
    "def train(train_images, train_labels, k, iters = 5, alpha = 0.5):\n",
    "    m, n = train_images.shape\n",
    "    # data processing\n",
    "    x, y = data_convert(train_images, train_labels, m, k) # x:[m,n], y:[1,m]\n",
    "    \n",
    "    # Initialize theta.  Use a matrix where each column corresponds to a class,\n",
    "    # and each row is a classifier coefficient for that class.\n",
    "    theta = np.random.rand(k, n) # [k,n]\n",
    "    # do the softmax regression\n",
    "    theta = softmax_regression(theta, x, y, iters, alpha)\n",
    "    return theta"
   ]
  },
  {
   "cell_type": "code",
   "execution_count": 58,
   "metadata": {},
   "outputs": [
    {
     "data": {
      "text/plain": [
       "array([[0.13066544, 0.92812147, 0.88855025, ..., 0.35534733, 0.69554858,\n",
       "        0.3982201 ],\n",
       "       [0.50548528, 0.01688244, 0.24007776, ..., 0.1805773 , 0.83835115,\n",
       "        0.81776173],\n",
       "       [0.37057434, 0.12343736, 0.72366109, ..., 0.21188505, 0.90995153,\n",
       "        0.90109176],\n",
       "       ...,\n",
       "       [0.44600842, 0.25514607, 0.50944094, ..., 0.80608162, 0.54949846,\n",
       "        0.40543243],\n",
       "       [0.55827385, 0.87676209, 0.38623529, ..., 0.98387167, 0.5861716 ,\n",
       "        0.70229255],\n",
       "       [0.0734925 , 0.99139553, 0.18168166, ..., 0.09285487, 0.17060588,\n",
       "        0.10942842]])"
      ]
     },
     "execution_count": 58,
     "metadata": {},
     "output_type": "execute_result"
    },
    {
     "data": {
      "image/png": "[encoded data removed]",
      "text/plain": [
       "<Figure size 640x480 with 1 Axes>"
      ]
     },
     "metadata": {},
     "output_type": "display_data"
    }
   ],
   "source": [
    "theta = train(train_images, train_labels, k, iters, alpha)\n",
    "theta"
   ]
  },
  {
   "cell_type": "markdown",
   "metadata": {},
   "source": [
    "## TEST"
   ]
  },
  {
   "cell_type": "code",
   "execution_count": 59,
   "metadata": {},
   "outputs": [],
   "source": [
    "def predict(test_images, theta):\n",
    "    scores = np.dot(test_images, theta.T)\n",
    "    preds = np.argmax(scores, axis=1)\n",
    "    return preds\n",
    "\n",
    "def cal_accuracy(y_pred, y):\n",
    "    # TODO: Compute the accuracy among the test set and store it in acc\n",
    "    acc = np.sum(np.equal(y_pred,y.reshape(-1,))) / y.shape[0]\n",
    "    return acc"
   ]
  },
  {
   "cell_type": "code",
   "execution_count": 60,
   "metadata": {},
   "outputs": [
    {
     "data": {
      "text/plain": [
       "array([7, 2, 1, ..., 4, 5, 6], dtype=int64)"
      ]
     },
     "execution_count": 60,
     "metadata": {},
     "output_type": "execute_result"
    }
   ],
   "source": [
    "y_predict = predict(test_images, theta)\n",
    "y_predict"
   ]
  },
  {
   "cell_type": "code",
   "execution_count": 61,
   "metadata": {},
   "outputs": [
    {
     "data": {
      "text/plain": [
       "0.9064"
      ]
     },
     "execution_count": 61,
     "metadata": {},
     "output_type": "execute_result"
    }
   ],
   "source": [
    "accuracy  = cal_accuracy(y_predict, test_labels)\n",
    "accuracy"
   ]
  }
 ],
 "metadata": {
  "kernelspec": {
   "display_name": "Python 3",
   "language": "python",
   "name": "python3"
  },
  "language_info": {
   "codemirror_mode": {
    "name": "ipython",
    "version": 3
   },
   "file_extension": ".py",
   "mimetype": "text/x-python",
   "name": "python",
   "nbconvert_exporter": "python",
   "pygments_lexer": "ipython3",
   "version": "3.11.5"
  }
 },
 "nbformat": 4,
 "nbformat_minor": 2
}
